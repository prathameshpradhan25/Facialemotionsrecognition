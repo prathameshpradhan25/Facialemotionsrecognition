{
  "nbformat": 4,
  "nbformat_minor": 0,
  "metadata": {
    "colab": {
      "name": "Facialemotionsrecognition",
      "provenance": []
    },
    "kernelspec": {
      "name": "python3",
      "display_name": "Python 3"
    },
    "language_info": {
      "name": "python"
    },
    "accelerator": "GPU"
  },
  "cells": [
    {
      "cell_type": "code",
      "metadata": {
        "colab": {
          "base_uri": "https://localhost:8080/"
        },
        "id": "G5ruQHVeSsM_",
        "outputId": "5833077d-2d1f-483a-e688-3fc7ff00e695"
      },
      "source": [
        "!git clone https://github.com/muxspace/facial_expressions.git"
      ],
      "execution_count": 50,
      "outputs": [
        {
          "output_type": "stream",
          "text": [
            "fatal: destination path 'facial_expressions' already exists and is not an empty directory.\n"
          ],
          "name": "stdout"
        }
      ]
    },
    {
      "cell_type": "code",
      "metadata": {
        "id": "n8bhLs8JT1W7"
      },
      "source": [
        "import csv\n",
        "data={}\n",
        "with open('/content/facial_expressions/data/legend.csv') as f:\n",
        "  reader=csv.reader(f)\n",
        "  next(reader)\n",
        "  for row in reader:\n",
        "    key=row[2].lower()\n",
        "    if key in data:\n",
        "      data[key].append(row[1])\n",
        "    else :\n",
        "      data[key]=[row[1]]\n",
        "    "
      ],
      "execution_count": 51,
      "outputs": []
    },
    {
      "cell_type": "code",
      "metadata": {
        "colab": {
          "base_uri": "https://localhost:8080/"
        },
        "id": "VPi5Z792V2uK",
        "outputId": "ed5360c9-19ad-411c-dd4d-1e2b6be8e972"
      },
      "source": [
        "\n",
        "emotion_list=list(data.keys())\n",
        "emotion_list"
      ],
      "execution_count": 52,
      "outputs": [
        {
          "output_type": "execute_result",
          "data": {
            "text/plain": [
              "['anger',\n",
              " 'surprise',\n",
              " 'disgust',\n",
              " 'fear',\n",
              " 'neutral',\n",
              " 'happiness',\n",
              " 'sadness',\n",
              " 'contempt']"
            ]
          },
          "metadata": {},
          "execution_count": 52
        }
      ]
    },
    {
      "cell_type": "code",
      "metadata": {
        "id": "cGkiWfI4WrJp",
        "colab": {
          "base_uri": "https://localhost:8080/",
          "height": 195
        },
        "outputId": "53931a96-850e-45ce-ea39-0afac0686e04"
      },
      "source": [
        "import os\n",
        "os.mkdir('master_data')\n",
        "os.mkdir('master_data/training')\n"
      ],
      "execution_count": 53,
      "outputs": [
        {
          "output_type": "error",
          "ename": "FileExistsError",
          "evalue": "ignored",
          "traceback": [
            "\u001b[0;31m---------------------------------------------------------------------------\u001b[0m",
            "\u001b[0;31mFileExistsError\u001b[0m                           Traceback (most recent call last)",
            "\u001b[0;32m<ipython-input-53-8a7fcd43bffc>\u001b[0m in \u001b[0;36m<module>\u001b[0;34m()\u001b[0m\n\u001b[1;32m      1\u001b[0m \u001b[0;32mimport\u001b[0m \u001b[0mos\u001b[0m\u001b[0;34m\u001b[0m\u001b[0;34m\u001b[0m\u001b[0m\n\u001b[0;32m----> 2\u001b[0;31m \u001b[0mos\u001b[0m\u001b[0;34m.\u001b[0m\u001b[0mmkdir\u001b[0m\u001b[0;34m(\u001b[0m\u001b[0;34m'master_data'\u001b[0m\u001b[0;34m)\u001b[0m\u001b[0;34m\u001b[0m\u001b[0;34m\u001b[0m\u001b[0m\n\u001b[0m\u001b[1;32m      3\u001b[0m \u001b[0mos\u001b[0m\u001b[0;34m.\u001b[0m\u001b[0mmkdir\u001b[0m\u001b[0;34m(\u001b[0m\u001b[0;34m'master_data/training'\u001b[0m\u001b[0;34m)\u001b[0m\u001b[0;34m\u001b[0m\u001b[0;34m\u001b[0m\u001b[0m\n",
            "\u001b[0;31mFileExistsError\u001b[0m: [Errno 17] File exists: 'master_data'"
          ]
        }
      ]
    },
    {
      "cell_type": "code",
      "metadata": {
        "id": "WJw71qMZXga_",
        "colab": {
          "base_uri": "https://localhost:8080/",
          "height": 162
        },
        "outputId": "291851b7-ef1b-4ee5-96bd-90be54eb0a44"
      },
      "source": [
        "os.mkdir('master_data/testing')"
      ],
      "execution_count": 54,
      "outputs": [
        {
          "output_type": "error",
          "ename": "FileExistsError",
          "evalue": "ignored",
          "traceback": [
            "\u001b[0;31m---------------------------------------------------------------------------\u001b[0m",
            "\u001b[0;31mFileExistsError\u001b[0m                           Traceback (most recent call last)",
            "\u001b[0;32m<ipython-input-54-7d020f24ebb8>\u001b[0m in \u001b[0;36m<module>\u001b[0;34m()\u001b[0m\n\u001b[0;32m----> 1\u001b[0;31m \u001b[0mos\u001b[0m\u001b[0;34m.\u001b[0m\u001b[0mmkdir\u001b[0m\u001b[0;34m(\u001b[0m\u001b[0;34m'master_data/testing'\u001b[0m\u001b[0;34m)\u001b[0m\u001b[0;34m\u001b[0m\u001b[0;34m\u001b[0m\u001b[0m\n\u001b[0m",
            "\u001b[0;31mFileExistsError\u001b[0m: [Errno 17] File exists: 'master_data/testing'"
          ]
        }
      ]
    },
    {
      "cell_type": "code",
      "metadata": {
        "id": "sHONroHyaRCQ"
      },
      "source": [
        "for emotion in emotion_list:\n",
        "  os.mkdir(os.path.join('/content/master_data/training/',emotion))\n",
        "  os.mkdir(os.path.join('/content/master_data/testing/',emotion))"
      ],
      "execution_count": null,
      "outputs": []
    },
    {
      "cell_type": "code",
      "metadata": {
        "id": "QOtL51ynXjC-"
      },
      "source": [
        "from shutil import copyfile\n",
        "split_size=0.8\n",
        "for emotion,images in data.items():\n",
        "  train_size=int(split_size*len(images))\n",
        "  train_images=images[:train_size]\n",
        "  test_images=images[train_size:]\n",
        "  for image in train_images:\n",
        "    source=os.path.join('/content/facial_expressions/images',image)\n",
        "    dest=os.path.join('/content/master_data/training',emotion,image)\n",
        "    copyfile(source,dest)\n",
        "  for image in test_images:\n",
        "    source=os.path.join('/content/facial_expressions/images',image)\n",
        "    dest=os.path.join('/content/master_data/testing',emotion,image)\n",
        "    copyfile(source,dest)"
      ],
      "execution_count": 55,
      "outputs": []
    },
    {
      "cell_type": "code",
      "metadata": {
        "id": "6rsXWzXSbEL9"
      },
      "source": [
        "import tensorflow as tf\n",
        "from tensorflow.keras.preprocessing.image import ImageDataGenerator\n",
        "from tensorflow.keras.optimizers import Adam\n",
        "from tensorflow.keras.callbacks import EarlyStopping\n",
        "from tensorflow.keras.layers import Conv2D,MaxPooling2D,Dense,Flatten,Dropout\n"
      ],
      "execution_count": 56,
      "outputs": []
    },
    {
      "cell_type": "code",
      "metadata": {
        "colab": {
          "base_uri": "https://localhost:8080/"
        },
        "id": "bA2kP_GJd9TM",
        "outputId": "092bc05d-3206-4b01-dbff-7c579bb885de"
      },
      "source": [
        "\n",
        "model=tf.keras.models.Sequential([\n",
        "    Conv2D(16,(3,3),activation=\"relu\",input_shape=(150,150,3)),\n",
        "    MaxPooling2D(2,2),\n",
        "    Conv2D(32,(3,3),activation=\"relu\"),\n",
        "    MaxPooling2D(2,2),\n",
        "    Conv2D(64,(3,3),activation=\"relu\"),\n",
        "    MaxPooling2D(2,2),\n",
        "    Flatten(),\n",
        "    Dense(1024,activation=\"relu\"),\n",
        "    Dense(8,activation=\"softmax\") \n",
        "])\n",
        "model.compile(optimizer=Adam(lr=0.01),loss=\"categorical_crossentropy\",metrics=[\"accuracy\"])\n",
        "model.summary()"
      ],
      "execution_count": 57,
      "outputs": [
        {
          "output_type": "stream",
          "text": [
            "Model: \"sequential_10\"\n",
            "_________________________________________________________________\n",
            "Layer (type)                 Output Shape              Param #   \n",
            "=================================================================\n",
            "conv2d_30 (Conv2D)           (None, 148, 148, 16)      448       \n",
            "_________________________________________________________________\n",
            "max_pooling2d_30 (MaxPooling (None, 74, 74, 16)        0         \n",
            "_________________________________________________________________\n",
            "conv2d_31 (Conv2D)           (None, 72, 72, 32)        4640      \n",
            "_________________________________________________________________\n",
            "max_pooling2d_31 (MaxPooling (None, 36, 36, 32)        0         \n",
            "_________________________________________________________________\n",
            "conv2d_32 (Conv2D)           (None, 34, 34, 64)        18496     \n",
            "_________________________________________________________________\n",
            "max_pooling2d_32 (MaxPooling (None, 17, 17, 64)        0         \n",
            "_________________________________________________________________\n",
            "flatten_10 (Flatten)         (None, 18496)             0         \n",
            "_________________________________________________________________\n",
            "dense_27 (Dense)             (None, 1024)              18940928  \n",
            "_________________________________________________________________\n",
            "dense_28 (Dense)             (None, 8)                 8200      \n",
            "=================================================================\n",
            "Total params: 18,972,712\n",
            "Trainable params: 18,972,712\n",
            "Non-trainable params: 0\n",
            "_________________________________________________________________\n"
          ],
          "name": "stdout"
        },
        {
          "output_type": "stream",
          "text": [
            "/usr/local/lib/python3.7/dist-packages/keras/optimizer_v2/optimizer_v2.py:356: UserWarning: The `lr` argument is deprecated, use `learning_rate` instead.\n",
            "  \"The `lr` argument is deprecated, use `learning_rate` instead.\")\n"
          ],
          "name": "stderr"
        }
      ]
    },
    {
      "cell_type": "code",
      "metadata": {
        "colab": {
          "base_uri": "https://localhost:8080/"
        },
        "id": "TW5gS1oTgcEh",
        "outputId": "52cf7fa7-39ac-4c09-af0e-6701113d92e9"
      },
      "source": [
        "test_dir='/content/master_data/testing'\n",
        "train_dir='/content/master_data/training'\n",
        "train_datagen=ImageDataGenerator(rescale=1/255.0)\n",
        "train_generator=train_datagen.flow_from_directory(\n",
        "    train_dir,\n",
        "    target_size=(150,150),\n",
        "    class_mode=\"categorical\",\n",
        "    batch_size=128\n",
        ")\n",
        "test_datagen=ImageDataGenerator(rescale=1/255.0)\n",
        "test_generator=test_datagen.flow_from_directory(\n",
        "    test_dir,\n",
        "    target_size=(150,150),\n",
        "    class_mode=\"categorical\",\n",
        "    batch_size=128\n",
        ")"
      ],
      "execution_count": 58,
      "outputs": [
        {
          "output_type": "stream",
          "text": [
            "Found 10941 images belonging to 8 classes.\n",
            "Found 2742 images belonging to 8 classes.\n"
          ],
          "name": "stdout"
        }
      ]
    },
    {
      "cell_type": "code",
      "metadata": {
        "id": "ChFzHuOPi7Mt"
      },
      "source": [
        "es=EarlyStopping(monitor='val_accuracy',patience=2)"
      ],
      "execution_count": 59,
      "outputs": []
    },
    {
      "cell_type": "code",
      "metadata": {
        "colab": {
          "base_uri": "https://localhost:8080/"
        },
        "id": "E8mmUY9PjNX8",
        "outputId": "eea76ae0-3a99-4127-f768-df2f73434e05"
      },
      "source": [
        "model=model.fit_generator(train_generator,epochs=10,verbose=1,validation_data=test_generator,callbacks=[es])"
      ],
      "execution_count": 60,
      "outputs": [
        {
          "output_type": "stream",
          "text": [
            "/usr/local/lib/python3.7/dist-packages/keras/engine/training.py:1972: UserWarning: `Model.fit_generator` is deprecated and will be removed in a future version. Please use `Model.fit`, which supports generators.\n",
            "  warnings.warn('`Model.fit_generator` is deprecated and '\n"
          ],
          "name": "stderr"
        },
        {
          "output_type": "stream",
          "text": [
            "Epoch 1/10\n",
            "86/86 [==============================] - 24s 272ms/step - loss: 1.7616 - accuracy: 0.4774 - val_loss: 1.0315 - val_accuracy: 0.5011\n",
            "Epoch 2/10\n",
            "86/86 [==============================] - 23s 269ms/step - loss: 1.0198 - accuracy: 0.5094 - val_loss: 1.0228 - val_accuracy: 0.5047\n",
            "Epoch 3/10\n",
            "86/86 [==============================] - 23s 268ms/step - loss: 0.9853 - accuracy: 0.5685 - val_loss: 1.0330 - val_accuracy: 0.5492\n",
            "Epoch 4/10\n",
            "86/86 [==============================] - 23s 270ms/step - loss: 0.8898 - accuracy: 0.6583 - val_loss: 1.0033 - val_accuracy: 0.6120\n",
            "Epoch 5/10\n",
            "86/86 [==============================] - 23s 265ms/step - loss: 0.8067 - accuracy: 0.7104 - val_loss: 1.0560 - val_accuracy: 0.5598\n",
            "Epoch 6/10\n",
            "86/86 [==============================] - 23s 269ms/step - loss: 0.7671 - accuracy: 0.7220 - val_loss: 0.9308 - val_accuracy: 0.6583\n",
            "Epoch 7/10\n",
            "86/86 [==============================] - 23s 268ms/step - loss: 0.7080 - accuracy: 0.7512 - val_loss: 1.0343 - val_accuracy: 0.6357\n",
            "Epoch 8/10\n",
            "86/86 [==============================] - 23s 268ms/step - loss: 0.6939 - accuracy: 0.7576 - val_loss: 1.1781 - val_accuracy: 0.6346\n"
          ],
          "name": "stdout"
        }
      ]
    },
    {
      "cell_type": "code",
      "metadata": {
        "id": "VvtRA4zlKifF"
      },
      "source": [
        ""
      ],
      "execution_count": null,
      "outputs": []
    }
  ]
}