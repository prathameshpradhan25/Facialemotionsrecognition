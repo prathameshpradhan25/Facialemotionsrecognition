{
  "nbformat": 4,
  "nbformat_minor": 0,
  "metadata": {
    "colab": {
      "name": "Facialemotionsrecognition",
      "provenance": []
    },
    "kernelspec": {
      "name": "python3",
      "display_name": "Python 3"
    },
    "language_info": {
      "name": "python"
    },
    "accelerator": "GPU"
  },
  "cells": [
    {
      "cell_type": "code",
      "metadata": {
        "colab": {
          "base_uri": "https://localhost:8080/"
        },
        "id": "G5ruQHVeSsM_",
        "outputId": "9e90cbe6-0dd1-43c1-e6e7-23f69ea8814a"
      },
      "source": [
        "!git clone https://github.com/muxspace/facial_expressions.git"
      ],
      "execution_count": 1,
      "outputs": [
        {
          "output_type": "stream",
          "text": [
            "Cloning into 'facial_expressions'...\n",
            "remote: Enumerating objects: 14214, done.\u001b[K\n",
            "remote: Total 14214 (delta 0), reused 0 (delta 0), pack-reused 14214\u001b[K\n",
            "Receiving objects: 100% (14214/14214), 239.65 MiB | 29.08 MiB/s, done.\n",
            "Resolving deltas: 100% (223/223), done.\n",
            "Checking out files: 100% (13996/13996), done.\n"
          ],
          "name": "stdout"
        }
      ]
    },
    {
      "cell_type": "code",
      "metadata": {
        "id": "n8bhLs8JT1W7"
      },
      "source": [
        "import csv\n",
        "data={}\n",
        "with open('/content/facial_expressions/data/legend.csv') as f:\n",
        "  reader=csv.reader(f)\n",
        "  next(reader)\n",
        "  for row in reader:\n",
        "    key=row[2].lower()\n",
        "    if key in data:\n",
        "      data[key].append(row[1])\n",
        "    else :\n",
        "      data[key]=[row[1]]\n",
        "    "
      ],
      "execution_count": 5,
      "outputs": []
    },
    {
      "cell_type": "code",
      "metadata": {
        "colab": {
          "base_uri": "https://localhost:8080/"
        },
        "id": "VPi5Z792V2uK",
        "outputId": "46d14536-118c-4778-829c-f9f674c0f9c1"
      },
      "source": [
        "emotion_list=list(data.keys())\n",
        "emotion_list"
      ],
      "execution_count": 6,
      "outputs": [
        {
          "output_type": "execute_result",
          "data": {
            "text/plain": [
              "['anger',\n",
              " 'surprise',\n",
              " 'disgust',\n",
              " 'fear',\n",
              " 'neutral',\n",
              " 'happiness',\n",
              " 'sadness',\n",
              " 'contempt']"
            ]
          },
          "metadata": {},
          "execution_count": 6
        }
      ]
    },
    {
      "cell_type": "code",
      "metadata": {
        "colab": {
          "base_uri": "https://localhost:8080/",
          "height": 212
        },
        "id": "cGkiWfI4WrJp",
        "outputId": "34b4b154-e14c-4d8d-8381-513a19a1e137"
      },
      "source": [
        "import os\n",
        "os.mkdir('master_data')\n",
        "os.mkdir('master_data/training')\n"
      ],
      "execution_count": null,
      "outputs": [
        {
          "output_type": "error",
          "ename": "FileExistsError",
          "evalue": "ignored",
          "traceback": [
            "\u001b[0;31m---------------------------------------------------------------------------\u001b[0m",
            "\u001b[0;31mFileExistsError\u001b[0m                           Traceback (most recent call last)",
            "\u001b[0;32m<ipython-input-8-07ff2f3a3afd>\u001b[0m in \u001b[0;36m<module>\u001b[0;34m()\u001b[0m\n\u001b[1;32m      1\u001b[0m \u001b[0;32mimport\u001b[0m \u001b[0mos\u001b[0m\u001b[0;34m\u001b[0m\u001b[0;34m\u001b[0m\u001b[0m\n\u001b[0;32m----> 2\u001b[0;31m \u001b[0mos\u001b[0m\u001b[0;34m.\u001b[0m\u001b[0mmkdir\u001b[0m\u001b[0;34m(\u001b[0m\u001b[0;34m'master_data'\u001b[0m\u001b[0;34m)\u001b[0m\u001b[0;34m\u001b[0m\u001b[0;34m\u001b[0m\u001b[0m\n\u001b[0m\u001b[1;32m      3\u001b[0m \u001b[0mos\u001b[0m\u001b[0;34m.\u001b[0m\u001b[0mmkdir\u001b[0m\u001b[0;34m(\u001b[0m\u001b[0;34m'master_data/training'\u001b[0m\u001b[0;34m)\u001b[0m\u001b[0;34m\u001b[0m\u001b[0;34m\u001b[0m\u001b[0m\n\u001b[1;32m      4\u001b[0m \u001b[0mos\u001b[0m\u001b[0;34m.\u001b[0m\u001b[0mmkdir\u001b[0m\u001b[0;34m(\u001b[0m\u001b[0;34m'master_data/testing'\u001b[0m\u001b[0;34m)\u001b[0m\u001b[0;34m\u001b[0m\u001b[0;34m\u001b[0m\u001b[0m\n",
            "\u001b[0;31mFileExistsError\u001b[0m: [Errno 17] File exists: 'master_data'"
          ]
        }
      ]
    },
    {
      "cell_type": "code",
      "metadata": {
        "id": "WJw71qMZXga_"
      },
      "source": [
        "os.mkdir('master_data/testing')"
      ],
      "execution_count": 9,
      "outputs": []
    },
    {
      "cell_type": "code",
      "metadata": {
        "id": "sHONroHyaRCQ"
      },
      "source": [
        "for emotion in emotion_list:\n",
        "  os.mkdir(os.path.join('/content/master_data/training/',emotion))\n",
        "  os.mkdir(os.path.join('/content/master_data/testing/',emotion))"
      ],
      "execution_count": 11,
      "outputs": []
    },
    {
      "cell_type": "code",
      "metadata": {
        "id": "QOtL51ynXjC-"
      },
      "source": [
        "from shutil import copyfile\n",
        "split_size=0.8\n",
        "for emotion,images in data.items():\n",
        "  train_size=int(split_size*len(images))\n",
        "  train_images=images[:train_size]\n",
        "  test_images=images[train_size:]\n",
        "  for image in train_images:\n",
        "    source=os.path.join('/content/facial_expressions/images',image)\n",
        "    dest=os.path.join('/content/master_data/training',emotion,image)\n",
        "    copyfile(source,dest)\n",
        "  for image in test_images:\n",
        "    source=os.path.join('/content/facial_expressions/images',image)\n",
        "    dest=os.path.join('/content/master_data/testing',emotion,image)\n",
        "    copyfile(source,dest)"
      ],
      "execution_count": 12,
      "outputs": []
    },
    {
      "cell_type": "code",
      "metadata": {
        "id": "6rsXWzXSbEL9"
      },
      "source": [
        "import tensorflow as tf\n",
        "from tensorflow.keras.preprocessing.image import ImageDataGenerator\n",
        "from tensorflow.keras.optimizers import Adam\n",
        "from tensorflow.keras.callbacks import EarlyStopping\n",
        "from tensorflow.keras.layers import Conv2D,MaxPooling2D,Dense,Flatten\n"
      ],
      "execution_count": 26,
      "outputs": []
    },
    {
      "cell_type": "code",
      "metadata": {
        "colab": {
          "base_uri": "https://localhost:8080/"
        },
        "id": "bA2kP_GJd9TM",
        "outputId": "6ebf0549-4abd-427a-d022-fdb3894d6ed2"
      },
      "source": [
        "model=tf.keras.models.Sequential([\n",
        "    Conv2D(16,(3,3),activation=\"relu\",input_shape=(100,100,3)),\n",
        "    MaxPooling2D(2,2),\n",
        "    Conv2D(32,(3,3),activation=\"relu\"),\n",
        "    MaxPooling2D(2,2),\n",
        "    Conv2D(64,(3,3),activation=\"relu\",input_shape=(100,100,3)),\n",
        "    MaxPooling2D(2,2),\n",
        "    Flatten(),\n",
        "    Dense(1024,activation=\"relu\"),\n",
        "    Dense(8,activation=\"softmax\") \n",
        "])\n",
        "model.compile(optimizer=Adam(lr=0.01),loss=\"categorical_crossentropy\",metrics=[\"accuracy\"])\n",
        "model.summary()"
      ],
      "execution_count": 40,
      "outputs": [
        {
          "output_type": "stream",
          "text": [
            "Model: \"sequential_6\"\n",
            "_________________________________________________________________\n",
            "Layer (type)                 Output Shape              Param #   \n",
            "=================================================================\n",
            "conv2d_19 (Conv2D)           (None, 98, 98, 16)        448       \n",
            "_________________________________________________________________\n",
            "max_pooling2d_18 (MaxPooling (None, 49, 49, 16)        0         \n",
            "_________________________________________________________________\n",
            "conv2d_20 (Conv2D)           (None, 47, 47, 32)        4640      \n",
            "_________________________________________________________________\n",
            "max_pooling2d_19 (MaxPooling (None, 23, 23, 32)        0         \n",
            "_________________________________________________________________\n",
            "conv2d_21 (Conv2D)           (None, 21, 21, 64)        18496     \n",
            "_________________________________________________________________\n",
            "max_pooling2d_20 (MaxPooling (None, 10, 10, 64)        0         \n",
            "_________________________________________________________________\n",
            "flatten_6 (Flatten)          (None, 6400)              0         \n",
            "_________________________________________________________________\n",
            "dense_12 (Dense)             (None, 1024)              6554624   \n",
            "_________________________________________________________________\n",
            "dense_13 (Dense)             (None, 8)                 8200      \n",
            "=================================================================\n",
            "Total params: 6,586,408\n",
            "Trainable params: 6,586,408\n",
            "Non-trainable params: 0\n",
            "_________________________________________________________________\n"
          ],
          "name": "stdout"
        },
        {
          "output_type": "stream",
          "text": [
            "/usr/local/lib/python3.7/dist-packages/keras/optimizer_v2/optimizer_v2.py:356: UserWarning: The `lr` argument is deprecated, use `learning_rate` instead.\n",
            "  \"The `lr` argument is deprecated, use `learning_rate` instead.\")\n"
          ],
          "name": "stderr"
        }
      ]
    },
    {
      "cell_type": "code",
      "metadata": {
        "colab": {
          "base_uri": "https://localhost:8080/"
        },
        "id": "TW5gS1oTgcEh",
        "outputId": "f6e3a227-4e78-4cb9-94f1-e4bc5cdbef00"
      },
      "source": [
        "test_dir='/content/master_data/testing'\n",
        "train_dir='/content/master_data/training'\n",
        "train_datagen=ImageDataGenerator(rescale=1/255.0)\n",
        "train_generator=train_datagen.flow_from_directory(\n",
        "    train_dir,\n",
        "    target_size=(100,100),\n",
        "    class_mode=\"categorical\",\n",
        "    batch_size=128\n",
        ")\n",
        "test_datagen=ImageDataGenerator(rescale=1/255.0)\n",
        "test_generator=test_datagen.flow_from_directory(\n",
        "    test_dir,\n",
        "    target_size=(100,100),\n",
        "    class_mode=\"categorical\",\n",
        "    batch_size=128\n",
        ")"
      ],
      "execution_count": 36,
      "outputs": [
        {
          "output_type": "stream",
          "text": [
            "Found 10941 images belonging to 8 classes.\n",
            "Found 2742 images belonging to 8 classes.\n"
          ],
          "name": "stdout"
        }
      ]
    },
    {
      "cell_type": "code",
      "metadata": {
        "id": "ChFzHuOPi7Mt"
      },
      "source": [
        "es=EarlyStopping(monitor='val_accuracy',patience=2)"
      ],
      "execution_count": 38,
      "outputs": []
    },
    {
      "cell_type": "code",
      "metadata": {
        "colab": {
          "base_uri": "https://localhost:8080/"
        },
        "id": "E8mmUY9PjNX8",
        "outputId": "26fdd8af-d50d-43ab-f382-3b41f722fcfd"
      },
      "source": [
        "model=model.fit_generator(train_generator,epochs=10,verbose=1,validation_data=test_generator,callbacks=[es])"
      ],
      "execution_count": 39,
      "outputs": [
        {
          "output_type": "stream",
          "text": [
            "/usr/local/lib/python3.7/dist-packages/keras/engine/training.py:1972: UserWarning: `Model.fit_generator` is deprecated and will be removed in a future version. Please use `Model.fit`, which supports generators.\n",
            "  warnings.warn('`Model.fit_generator` is deprecated and '\n"
          ],
          "name": "stderr"
        },
        {
          "output_type": "stream",
          "text": [
            "Epoch 1/10\n",
            "86/86 [==============================] - 20s 223ms/step - loss: 1.2387 - accuracy: 0.4810 - val_loss: 1.0350 - val_accuracy: 0.5000\n",
            "Epoch 2/10\n",
            "86/86 [==============================] - 19s 217ms/step - loss: 0.9889 - accuracy: 0.5714 - val_loss: 0.9639 - val_accuracy: 0.6207\n",
            "Epoch 3/10\n",
            "86/86 [==============================] - 19s 218ms/step - loss: 0.8351 - accuracy: 0.7062 - val_loss: 0.9286 - val_accuracy: 0.6408\n",
            "Epoch 4/10\n",
            "86/86 [==============================] - 19s 222ms/step - loss: 0.7575 - accuracy: 0.7380 - val_loss: 0.9429 - val_accuracy: 0.6371\n",
            "Epoch 5/10\n",
            "86/86 [==============================] - 19s 221ms/step - loss: 0.7249 - accuracy: 0.7461 - val_loss: 1.0069 - val_accuracy: 0.6565\n",
            "Epoch 6/10\n",
            "86/86 [==============================] - 19s 222ms/step - loss: 0.6730 - accuracy: 0.7684 - val_loss: 1.0031 - val_accuracy: 0.6513\n",
            "Epoch 7/10\n",
            "86/86 [==============================] - 19s 220ms/step - loss: 0.6239 - accuracy: 0.7847 - val_loss: 0.9406 - val_accuracy: 0.6652\n",
            "Epoch 8/10\n",
            "86/86 [==============================] - 19s 219ms/step - loss: 0.6014 - accuracy: 0.7848 - val_loss: 1.1641 - val_accuracy: 0.6247\n",
            "Epoch 9/10\n",
            "86/86 [==============================] - 19s 216ms/step - loss: 0.5732 - accuracy: 0.7976 - val_loss: 1.0172 - val_accuracy: 0.6557\n"
          ],
          "name": "stdout"
        }
      ]
    }
  ]
}